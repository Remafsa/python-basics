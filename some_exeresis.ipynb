{
 "cells": [
  {
   "cell_type": "code",
   "execution_count": 2,
   "metadata": {},
   "outputs": [],
   "source": [
    "def neutralize_uppercase(stringy):\n",
    "    i = 0\n",
    "    while i < len(stringy):\n",
    "        # Check if the current character is uppercase\n",
    "        if stringy[i].isupper():\n",
    "            return \"\"  # Return empty string if any uppercase letter is found\n",
    "        i += 1\n",
    "    return stringy"
   ]
  },
  {
   "cell_type": "code",
   "execution_count": 3,
   "metadata": {},
   "outputs": [],
   "source": [
    "def fun(string):\n",
    "    i=0\n",
    "    while i < len(string):\n",
    "        if string[i].isupper():\n",
    "            return \"\"\n",
    "        i=+1\n",
    "    return string"
   ]
  },
  {
   "cell_type": "code",
   "execution_count": 6,
   "metadata": {},
   "outputs": [
    {
     "ename": "KeyboardInterrupt",
     "evalue": "",
     "output_type": "error",
     "traceback": [
      "\u001b[0;31m---------------------------------------------------------------------------\u001b[0m",
      "\u001b[0;31mKeyboardInterrupt\u001b[0m                         Traceback (most recent call last)",
      "Cell \u001b[0;32mIn [6], line 1\u001b[0m\n\u001b[0;32m----> 1\u001b[0m \u001b[43mfun\u001b[49m\u001b[43m(\u001b[49m\u001b[38;5;124;43m\"\u001b[39;49m\u001b[38;5;124;43msnitch\u001b[39;49m\u001b[38;5;124;43m\"\u001b[39;49m\u001b[43m)\u001b[49m\n",
      "Cell \u001b[0;32mIn [3], line 3\u001b[0m, in \u001b[0;36mfun\u001b[0;34m(string)\u001b[0m\n\u001b[1;32m      1\u001b[0m \u001b[38;5;28;01mdef\u001b[39;00m \u001b[38;5;21mfun\u001b[39m(string):\n\u001b[1;32m      2\u001b[0m     i\u001b[38;5;241m=\u001b[39m\u001b[38;5;241m0\u001b[39m \n\u001b[0;32m----> 3\u001b[0m     \u001b[38;5;28;01mwhile\u001b[39;00m i \u001b[38;5;241m<\u001b[39m \u001b[38;5;28;43mlen\u001b[39;49m\u001b[43m(\u001b[49m\u001b[43mstring\u001b[49m\u001b[43m)\u001b[49m:\n\u001b[1;32m      4\u001b[0m         \u001b[38;5;28;01mif\u001b[39;00m string[i]\u001b[38;5;241m.\u001b[39misupper():\n\u001b[1;32m      5\u001b[0m             \u001b[38;5;28;01mreturn\u001b[39;00m \u001b[38;5;124m\"\u001b[39m\u001b[38;5;124m\"\u001b[39m\n",
      "\u001b[0;31mKeyboardInterrupt\u001b[0m: "
     ]
    }
   ],
   "source": [
    "fun(\"snitch\")"
   ]
  },
  {
   "cell_type": "code",
   "execution_count": 8,
   "metadata": {},
   "outputs": [
    {
     "data": {
      "text/plain": [
       "'snitch'"
      ]
     },
     "execution_count": 8,
     "metadata": {},
     "output_type": "execute_result"
    }
   ],
   "source": [
    "neutralize_uppercase(\"snitch\")"
   ]
  },
  {
   "cell_type": "code",
   "execution_count": 19,
   "metadata": {},
   "outputs": [],
   "source": [
    "def convert_pirate_to_dog(pirate_saying):\n",
    "    chunks = [pirate_saying[i:i+1] for i in range(0,len(pirate_saying),1)]\n",
    "    return \"oo\".join(chunks)"
   ]
  },
  {
   "cell_type": "code",
   "execution_count": 20,
   "metadata": {},
   "outputs": [
    {
     "data": {
      "text/plain": [
       "'rooeoomooa'"
      ]
     },
     "execution_count": 20,
     "metadata": {},
     "output_type": "execute_result"
    }
   ],
   "source": [
    "convert_pirate_to_dog(\"rema\")"
   ]
  },
  {
   "cell_type": "code",
   "execution_count": 21,
   "metadata": {},
   "outputs": [],
   "source": [
    "def append_greeting_to_name(name):\n",
    "    # THIS IS BROKEN\n",
    "    # YOUR JOB IS TO FIX IT\n",
    "    # You can change this function as much as you want\n",
    "    return \"Hello \" + name"
   ]
  },
  {
   "cell_type": "code",
   "execution_count": 23,
   "metadata": {},
   "outputs": [
    {
     "data": {
      "text/plain": [
       "'Hello rema'"
      ]
     },
     "execution_count": 23,
     "metadata": {},
     "output_type": "execute_result"
    }
   ],
   "source": [
    "append_greeting_to_name(\"rema\")"
   ]
  },
  {
   "cell_type": "code",
   "execution_count": 24,
   "metadata": {},
   "outputs": [
    {
     "ename": "TypeError",
     "evalue": "can only concatenate str (not \"int\") to str",
     "output_type": "error",
     "traceback": [
      "\u001b[0;31m---------------------------------------------------------------------------\u001b[0m",
      "\u001b[0;31mTypeError\u001b[0m                                 Traceback (most recent call last)",
      "Cell \u001b[0;32mIn [24], line 1\u001b[0m\n\u001b[0;32m----> 1\u001b[0m \u001b[43mappend_greeting_to_name\u001b[49m\u001b[43m(\u001b[49m\u001b[38;5;241;43m1\u001b[39;49m\u001b[43m)\u001b[49m\n",
      "Cell \u001b[0;32mIn [21], line 5\u001b[0m, in \u001b[0;36mappend_greeting_to_name\u001b[0;34m(name)\u001b[0m\n\u001b[1;32m      1\u001b[0m \u001b[38;5;28;01mdef\u001b[39;00m \u001b[38;5;21mappend_greeting_to_name\u001b[39m(name):\n\u001b[1;32m      2\u001b[0m     \u001b[38;5;66;03m# THIS IS BROKEN\u001b[39;00m\n\u001b[1;32m      3\u001b[0m     \u001b[38;5;66;03m# YOUR JOB IS TO FIX IT\u001b[39;00m\n\u001b[1;32m      4\u001b[0m     \u001b[38;5;66;03m# You can change this function as much as you want\u001b[39;00m\n\u001b[0;32m----> 5\u001b[0m     \u001b[38;5;28;01mreturn\u001b[39;00m \u001b[38;5;124;43m\"\u001b[39;49m\u001b[38;5;124;43mHello \u001b[39;49m\u001b[38;5;124;43m\"\u001b[39;49m\u001b[43m \u001b[49m\u001b[38;5;241;43m+\u001b[39;49m\u001b[43m \u001b[49m\u001b[43mname\u001b[49m\n",
      "\u001b[0;31mTypeError\u001b[0m: can only concatenate str (not \"int\") to str"
     ]
    }
   ],
   "source": [
    "append_greeting_to_name(1)"
   ]
  },
  {
   "cell_type": "code",
   "execution_count": 28,
   "metadata": {},
   "outputs": [],
   "source": [
    "def append_greeting_to_name(name):\n",
    "    if name != str:\n",
    "        name = str(name)\n",
    "    return \"Hello \" + name"
   ]
  },
  {
   "cell_type": "code",
   "execution_count": 29,
   "metadata": {},
   "outputs": [
    {
     "data": {
      "text/plain": [
       "'Hello 1'"
      ]
     },
     "execution_count": 29,
     "metadata": {},
     "output_type": "execute_result"
    }
   ],
   "source": [
    "append_greeting_to_name(1)"
   ]
  },
  {
   "cell_type": "code",
   "execution_count": 32,
   "metadata": {},
   "outputs": [],
   "source": [
    "def format_date(year, month, day):\n",
    "    # THIS IS BROKEN\n",
    "    # YOUR JOB IS TO FIX IT\n",
    "    # You can change this function as much as you want\n",
    "    return \"Today is {}-{}-{}\".format(day, month, year)"
   ]
  },
  {
   "cell_type": "code",
   "execution_count": 33,
   "metadata": {},
   "outputs": [
    {
     "data": {
      "text/plain": [
       "'Today is 20-3-2018'"
      ]
     },
     "execution_count": 33,
     "metadata": {},
     "output_type": "execute_result"
    }
   ],
   "source": [
    "format_date(2018, 3, 20)"
   ]
  },
  {
   "cell_type": "code",
   "execution_count": 34,
   "metadata": {},
   "outputs": [
    {
     "data": {
      "text/plain": [
       "'Today is 19-1-2015'"
      ]
     },
     "execution_count": 34,
     "metadata": {},
     "output_type": "execute_result"
    }
   ],
   "source": [
    "format_date(2015, 1, 19)"
   ]
  },
  {
   "cell_type": "code",
   "execution_count": 1,
   "metadata": {},
   "outputs": [
    {
     "data": {
      "text/plain": [
       "52"
      ]
     },
     "execution_count": 1,
     "metadata": {},
     "output_type": "execute_result"
    }
   ],
   "source": [
    "lst = [\"hi\", \"morning\", \"dog\", \"506\", \"caterpillar\", \"balloons\", 106, \"yo-yo\", \"python\", \"moon\", \"water\", \"sleepy\", \"daffy\", 45, \"donald\", \"whiteboard\", \"glasses\", \"markers\", \"couches\", \"butterfly\", \"100\", \"magazine\", \"door\", \"picture\", \"window\", [\"Olympics\", \"handle\"], \"chair\", \"pages\", \"readings\", \"burger\", \"juggle\", \"craft\", [\"store\", \"poster\", \"board\"], \"laptop\", \"computer\", \"plates\", \"hotdog\", \"salad\", \"backpack\", \"zipper\", \"ring\", \"watch\", \"finger\", \"bags\", \"boxes\", \"pods\", \"peas\", \"apples\", \"horse\", \"guinea pig\", \"bowl\", \"EECS\"]\n",
    "len(lst)"
   ]
  },
  {
   "cell_type": "code",
   "execution_count": 5,
   "metadata": {},
   "outputs": [
    {
     "data": {
      "text/plain": [
       "'laptop'"
      ]
     },
     "execution_count": 5,
     "metadata": {},
     "output_type": "execute_result"
    }
   ],
   "source": [
    "lst[33]"
   ]
  },
  {
   "cell_type": "code",
   "execution_count": 6,
   "metadata": {},
   "outputs": [
    {
     "name": "stdout",
     "output_type": "stream",
     "text": [
      "5\n"
     ]
    }
   ],
   "source": [
    "alist = [3, 67, \"cat\", 3.14, False]\n",
    "print(len(alist))"
   ]
  },
  {
   "cell_type": "code",
   "execution_count": 10,
   "metadata": {},
   "outputs": [],
   "source": [
    "new_lst = [\"computer\", \"luxurious\", \"basket\", \"crime\", 0, 2.49, \"institution\", \"slice\", \"sun\", [\"water\", \"air\", \"fire\", \"earth\"], \"games\", 2.7, \"code\", \"java\", [\"birthday\", \"celebration\", 1817, \"party\", \"cake\", 5], \"rain\", \"thunderstorm\", \"top down\"]\n",
    "sub_lst = new_lst[8:]"
   ]
  },
  {
   "cell_type": "code",
   "execution_count": 11,
   "metadata": {},
   "outputs": [
    {
     "data": {
      "text/plain": [
       "10"
      ]
     },
     "execution_count": 11,
     "metadata": {},
     "output_type": "execute_result"
    }
   ],
   "source": [
    "len(sub_lst)"
   ]
  },
  {
   "cell_type": "code",
   "execution_count": 12,
   "metadata": {},
   "outputs": [
    {
     "data": {
      "text/plain": [
       "['sun',\n",
       " ['water', 'air', 'fire', 'earth'],\n",
       " 'games',\n",
       " 2.7,\n",
       " 'code',\n",
       " 'java',\n",
       " ['birthday', 'celebration', 1817, 'party', 'cake', 5],\n",
       " 'rain',\n",
       " 'thunderstorm',\n",
       " 'top down']"
      ]
     },
     "execution_count": 12,
     "metadata": {},
     "output_type": "execute_result"
    }
   ],
   "source": [
    "sub_lst"
   ]
  },
  {
   "cell_type": "code",
   "execution_count": 14,
   "metadata": {},
   "outputs": [],
   "source": [
    "lst = [\"swimming\", 2, \"water bottle\", 44, \"lollipop\", \"shine\", \"marsh\", \"winter\", \"donkey\", \"rain\", [\"Rio\", \"Beijing\", \"London\"], [1,2,3], \"gold\", \"bronze\", \"silver\", \"mathematician\", \"scientist\", \"actor\", \"actress\", \"win\", \"cell phone\", \"leg\", \"running\", \"horse\", \"socket\", \"plug\", [\"Phelps\", \"le Clos\", \"Lochte\"], \"drink\", 22, \"happyfeet\", \"penguins\"]\n"
   ]
  },
  {
   "cell_type": "code",
   "execution_count": 15,
   "metadata": {},
   "outputs": [
    {
     "data": {
      "text/plain": [
       "31"
      ]
     },
     "execution_count": 15,
     "metadata": {},
     "output_type": "execute_result"
    }
   ],
   "source": [
    "len(lst)"
   ]
  },
  {
   "cell_type": "code",
   "execution_count": 16,
   "metadata": {},
   "outputs": [],
   "source": [
    "output= lst[5:14]"
   ]
  },
  {
   "cell_type": "code",
   "execution_count": 17,
   "metadata": {},
   "outputs": [
    {
     "data": {
      "text/plain": [
       "['shine',\n",
       " 'marsh',\n",
       " 'winter',\n",
       " 'donkey',\n",
       " 'rain',\n",
       " ['Rio', 'Beijing', 'London'],\n",
       " [1, 2, 3],\n",
       " 'gold',\n",
       " 'bronze']"
      ]
     },
     "execution_count": 17,
     "metadata": {},
     "output_type": "execute_result"
    }
   ],
   "source": [
    "output"
   ]
  },
  {
   "cell_type": "code",
   "execution_count": 18,
   "metadata": {},
   "outputs": [],
   "source": [
    "l = ['w', '7', 0, 9]\n",
    "m = l[1:2]"
   ]
  },
  {
   "cell_type": "code",
   "execution_count": 19,
   "metadata": {},
   "outputs": [
    {
     "data": {
      "text/plain": [
       "['7']"
      ]
     },
     "execution_count": 19,
     "metadata": {},
     "output_type": "execute_result"
    }
   ],
   "source": [
    "m"
   ]
  },
  {
   "cell_type": "code",
   "execution_count": 20,
   "metadata": {},
   "outputs": [],
   "source": [
    "b = \"My, what a lovely day\"\n",
    "x = b.split(',')\n",
    "z = \"\".join(x)\n",
    "y = z.split()\n",
    "a = \"\".join(y)"
   ]
  },
  {
   "cell_type": "code",
   "execution_count": 21,
   "metadata": {},
   "outputs": [
    {
     "data": {
      "text/plain": [
       "'Mywhatalovelyday'"
      ]
     },
     "execution_count": 21,
     "metadata": {},
     "output_type": "execute_result"
    }
   ],
   "source": [
    "a"
   ]
  },
  {
   "cell_type": "code",
   "execution_count": 22,
   "metadata": {},
   "outputs": [
    {
     "data": {
      "text/plain": [
       "['My', 'what', 'a', 'lovely', 'day']"
      ]
     },
     "execution_count": 22,
     "metadata": {},
     "output_type": "execute_result"
    }
   ],
   "source": [
    "y"
   ]
  },
  {
   "cell_type": "code",
   "execution_count": 23,
   "metadata": {},
   "outputs": [
    {
     "data": {
      "text/plain": [
       "['My', ' what a lovely day']"
      ]
     },
     "execution_count": 23,
     "metadata": {},
     "output_type": "execute_result"
    }
   ],
   "source": [
    "x"
   ]
  },
  {
   "cell_type": "code",
   "execution_count": 24,
   "metadata": {},
   "outputs": [
    {
     "data": {
      "text/plain": [
       "'My what a lovely day'"
      ]
     },
     "execution_count": 24,
     "metadata": {},
     "output_type": "execute_result"
    }
   ],
   "source": [
    "z"
   ]
  },
  {
   "cell_type": "code",
   "execution_count": 25,
   "metadata": {},
   "outputs": [
    {
     "name": "stdout",
     "output_type": "stream",
     "text": [
      "HELLO\n",
      "HELLO\n",
      "HELLO\n",
      "HELLO\n",
      "HELLO\n",
      "HELLO\n",
      "HELLO\n",
      "HELLO\n",
      "HELLO\n",
      "HELLO\n",
      "HELLO\n",
      "HELLO\n"
     ]
    }
   ],
   "source": [
    "s = \"python rocks\"\n",
    "for ch in s:\n",
    "   print(\"HELLO\")"
   ]
  },
  {
   "cell_type": "code",
   "execution_count": 26,
   "metadata": {},
   "outputs": [
    {
     "data": {
      "text/plain": [
       "12"
      ]
     },
     "execution_count": 26,
     "metadata": {},
     "output_type": "execute_result"
    }
   ],
   "source": [
    "len(s)"
   ]
  },
  {
   "cell_type": "code",
   "execution_count": 27,
   "metadata": {},
   "outputs": [
    {
     "name": "stdout",
     "output_type": "stream",
     "text": [
      "3\n",
      "4\n",
      "Me\n",
      "3\n",
      "[]\n",
      "Why\n",
      "0\n",
      "Tell\n",
      "9.3\n"
     ]
    }
   ],
   "source": [
    "p = [3, 4, \"Me\", 3, [], \"Why\", 0, \"Tell\", 9.3]\n",
    "for ch in p:\n",
    "   print(ch)"
   ]
  },
  {
   "cell_type": "code",
   "execution_count": 28,
   "metadata": {},
   "outputs": [
    {
     "data": {
      "text/plain": [
       "9"
      ]
     },
     "execution_count": 28,
     "metadata": {},
     "output_type": "execute_result"
    }
   ],
   "source": [
    "len(p)"
   ]
  },
  {
   "cell_type": "code",
   "execution_count": 29,
   "metadata": {},
   "outputs": [
    {
     "name": "stdout",
     "output_type": "stream",
     "text": [
      "10\n"
     ]
    }
   ],
   "source": [
    "nums = [1, 2, 3, 4, 5, 6, 7, 8, 9, 10]\n",
    "for w in nums:\n",
    "   accum = 0\n",
    "   accum = accum + w\n",
    "print(accum)"
   ]
  },
  {
   "cell_type": "code",
   "execution_count": 34,
   "metadata": {},
   "outputs": [
    {
     "name": "stdout",
     "output_type": "stream",
     "text": [
      "[0, 1, 2, 3, 4, 5, 6, 7, 8, 9, 10, 11, 12, 13, 14, 15, 16, 17, 18, 19, 20, 21, 22, 23, 24, 25, 26, 27, 28, 29, 30, 31, 32, 33, 34, 35, 36, 37, 38, 39, 40, 41, 42, 43, 44, 45, 46, 47, 48, 49, 50, 51]\n"
     ]
    }
   ],
   "source": [
    "numbers = []\n",
    "\n",
    "for i in range(0,52):\n",
    "    numbers.append(i)\n",
    "print(numbers)\n"
   ]
  },
  {
   "cell_type": "code",
   "execution_count": 1,
   "metadata": {},
   "outputs": [
    {
     "name": "stdout",
     "output_type": "stream",
     "text": [
      "p\n",
      "y\n",
      "p\n",
      "y\n",
      "p\n",
      "y\n"
     ]
    }
   ],
   "source": [
    "s = \"python\"\n",
    "for idx in range(len(s)):\n",
    "   print(s[idx % 2])"
   ]
  },
  {
   "cell_type": "code",
   "execution_count": 8,
   "metadata": {},
   "outputs": [
    {
     "ename": "ImportError",
     "evalue": "cannot import name 'Image' from 'image' (/Users/remaalnssiry/.pyenv/versions/3.10.6/envs/lewagon/lib/python3.10/site-packages/image/__init__.py)",
     "output_type": "error",
     "traceback": [
      "\u001b[0;31m---------------------------------------------------------------------------\u001b[0m",
      "\u001b[0;31mImportError\u001b[0m                               Traceback (most recent call last)",
      "Cell \u001b[0;32mIn [8], line 1\u001b[0m\n\u001b[0;32m----> 1\u001b[0m \u001b[38;5;28;01mfrom\u001b[39;00m \u001b[38;5;21;01mimage\u001b[39;00m \u001b[38;5;28;01mimport\u001b[39;00m Image\n\u001b[1;32m      2\u001b[0m img \u001b[38;5;241m=\u001b[39m image\u001b[38;5;241m.\u001b[39mImage(\u001b[38;5;124m\"\u001b[39m\u001b[38;5;124mScreenshot.png\u001b[39m\u001b[38;5;124m\"\u001b[39m)\n\u001b[1;32m      4\u001b[0m \u001b[38;5;28mprint\u001b[39m(img\u001b[38;5;241m.\u001b[39mgetWidth())\n",
      "\u001b[0;31mImportError\u001b[0m: cannot import name 'Image' from 'image' (/Users/remaalnssiry/.pyenv/versions/3.10.6/envs/lewagon/lib/python3.10/site-packages/image/__init__.py)"
     ]
    }
   ],
   "source": []
  },
  {
   "cell_type": "code",
   "execution_count": 12,
   "metadata": {},
   "outputs": [
    {
     "name": "stdout",
     "output_type": "stream",
     "text": [
      "word\n",
      "phrase\n",
      "8\n",
      "beam\n"
     ]
    }
   ],
   "source": [
    "t = [\"word\", \"phrase\", 8, (\"beam\")]\n",
    "for z in t:\n",
    "    print(z)"
   ]
  },
  {
   "cell_type": "code",
   "execution_count": 10,
   "metadata": {},
   "outputs": [
    {
     "ename": "TypeError",
     "evalue": "'int' object is not iterable",
     "output_type": "error",
     "traceback": [
      "\u001b[0;31m---------------------------------------------------------------------------\u001b[0m",
      "\u001b[0;31mTypeError\u001b[0m                                 Traceback (most recent call last)",
      "Cell \u001b[0;32mIn [10], line 2\u001b[0m\n\u001b[1;32m      1\u001b[0m y \u001b[38;5;241m=\u001b[39m \u001b[38;5;241m18\u001b[39m\n\u001b[0;32m----> 2\u001b[0m \u001b[38;5;28;01mfor\u001b[39;00m z \u001b[38;5;129;01min\u001b[39;00m y:\n\u001b[1;32m      3\u001b[0m     \u001b[38;5;28mprint\u001b[39m(z)\n",
      "\u001b[0;31mTypeError\u001b[0m: 'int' object is not iterable"
     ]
    }
   ],
   "source": [
    "y = 18\n",
    "for z in y:\n",
    "    print(z)"
   ]
  },
  {
   "cell_type": "code",
   "execution_count": 17,
   "metadata": {},
   "outputs": [
    {
     "name": "stdout",
     "output_type": "stream",
     "text": [
      "<class 'str'>\n"
     ]
    }
   ],
   "source": [
    "t = [\"couch\", \"chair\", \"washer\", \"dryer\", \"table\"]\n",
    "for val in t:\n",
    "    val = val+ \"!\"\n",
    "print(type(val))"
   ]
  },
  {
   "cell_type": "code",
   "execution_count": 13,
   "metadata": {},
   "outputs": [
    {
     "name": "stdout",
     "output_type": "stream",
     "text": [
      "9\n",
      "setter\n",
      "3\n",
      "wing spiker\n",
      "10\n",
      "middle blocker\n"
     ]
    }
   ],
   "source": [
    "t = [9, \"setter\", 3, \"wing spiker\", 10, \"middle blocker\"]\n",
    "for z in t:\n",
    "    print(z)"
   ]
  },
  {
   "cell_type": "code",
   "execution_count": 18,
   "metadata": {},
   "outputs": [
    {
     "name": "stdout",
     "output_type": "stream",
     "text": [
      "M\n",
      "I\n",
      "C\n",
      "H\n",
      "I\n",
      "G\n",
      "A\n",
      "N\n"
     ]
    }
   ],
   "source": [
    "my_str = \"MICHIGAN\"\n",
    "for char in my_str:\n",
    "    print(char)"
   ]
  },
  {
   "cell_type": "code",
   "execution_count": 27,
   "metadata": {},
   "outputs": [
    {
     "name": "stdout",
     "output_type": "stream",
     "text": [
      "hello <class 'str'>\n",
      "2 <class 'int'>\n",
      "4 <class 'int'>\n",
      "6.0 <class 'float'>\n",
      "7.5 <class 'float'>\n",
      "234352354 <class 'int'>\n",
      "the end <class 'str'>\n",
      " <class 'str'>\n",
      "99 <class 'int'>\n"
     ]
    }
   ],
   "source": [
    "several_things = [\"hello\", 2, 4, 6.0, 7.5, 234352354, \"the end\", \"\", 99]\n",
    "count = 0\n",
    "for x in several_things:\n",
    "        print(x,type(x))"
   ]
  },
  {
   "cell_type": "code",
   "execution_count": 36,
   "metadata": {},
   "outputs": [
    {
     "name": "stdout",
     "output_type": "stream",
     "text": [
      "57\n"
     ]
    }
   ],
   "source": [
    "original_str = \"The quick brown rhino jumped over the extremely lazy fox.\"\n",
    "num_chars = 0\n",
    "for i in original_str:\n",
    "    num_chars = num_chars+1\n",
    "\n",
    "print(num_chars)\n",
    "# print(num_chars)"
   ]
  },
  {
   "cell_type": "code",
   "execution_count": 40,
   "metadata": {},
   "outputs": [
    {
     "name": "stdout",
     "output_type": "stream",
     "text": [
      "37\n"
     ]
    }
   ],
   "source": [
    "addition_str = \"2+5+10+20\"\n",
    "addition_str = addition_str.split(\"+\")\n",
    "\n",
    "tot = 0\n",
    "for i in addition_str:\n",
    "    x = int(i)\n",
    "    tot = tot+x\n",
    "print(tot)"
   ]
  },
  {
   "cell_type": "code",
   "execution_count": 38,
   "metadata": {},
   "outputs": [
    {
     "data": {
      "text/plain": [
       "['2', '5', '10', '20']"
      ]
     },
     "execution_count": 38,
     "metadata": {},
     "output_type": "execute_result"
    }
   ],
   "source": [
    "addition_str"
   ]
  },
  {
   "cell_type": "code",
   "execution_count": 54,
   "metadata": {},
   "outputs": [
    {
     "name": "stdout",
     "output_type": "stream",
     "text": [
      "564.7\n"
     ]
    },
    {
     "data": {
      "text/plain": [
       "80.67142857142858"
      ]
     },
     "execution_count": 54,
     "metadata": {},
     "output_type": "execute_result"
    }
   ],
   "source": [
    "week_temps_f = \"75.1,77.7,83.2,82.5,81.0,79.5,85.7\"\n",
    "week_temps_f = week_temps_f.split(\",\")\n",
    "list = []\n",
    "tot = 0\n",
    "len = 0\n",
    "for i in week_temps_f:\n",
    "    x = float(i)\n",
    "    list.append(x)\n",
    "    tot = tot+x\n",
    "    len = len +1\n",
    "avg_temp = tot/len"
   ]
  },
  {
   "cell_type": "code",
   "execution_count": 55,
   "metadata": {},
   "outputs": [
    {
     "data": {
      "text/plain": [
       "[75.1, 77.7, 83.2, 82.5, 81.0, 79.5, 85.7]"
      ]
     },
     "execution_count": 55,
     "metadata": {},
     "output_type": "execute_result"
    }
   ],
   "source": [
    "list"
   ]
  },
  {
   "cell_type": "code",
   "execution_count": 57,
   "metadata": {},
   "outputs": [
    {
     "data": {
      "text/plain": [
       "float"
      ]
     },
     "execution_count": 57,
     "metadata": {},
     "output_type": "execute_result"
    }
   ],
   "source": [
    "type(list[0])"
   ]
  },
  {
   "cell_type": "code",
   "execution_count": 60,
   "metadata": {},
   "outputs": [],
   "source": [
    "list = []\n",
    "for i in range(68):\n",
    "    list.append(i)"
   ]
  },
  {
   "cell_type": "code",
   "execution_count": 61,
   "metadata": {},
   "outputs": [
    {
     "data": {
      "text/plain": [
       "[0,\n",
       " 1,\n",
       " 2,\n",
       " 3,\n",
       " 4,\n",
       " 5,\n",
       " 6,\n",
       " 7,\n",
       " 8,\n",
       " 9,\n",
       " 10,\n",
       " 11,\n",
       " 12,\n",
       " 13,\n",
       " 14,\n",
       " 15,\n",
       " 16,\n",
       " 17,\n",
       " 18,\n",
       " 19,\n",
       " 20,\n",
       " 21,\n",
       " 22,\n",
       " 23,\n",
       " 24,\n",
       " 25,\n",
       " 26,\n",
       " 27,\n",
       " 28,\n",
       " 29,\n",
       " 30,\n",
       " 31,\n",
       " 32,\n",
       " 33,\n",
       " 34,\n",
       " 35,\n",
       " 36,\n",
       " 37,\n",
       " 38,\n",
       " 39,\n",
       " 40,\n",
       " 41,\n",
       " 42,\n",
       " 43,\n",
       " 44,\n",
       " 45,\n",
       " 46,\n",
       " 47,\n",
       " 48,\n",
       " 49,\n",
       " 50,\n",
       " 51,\n",
       " 52,\n",
       " 53,\n",
       " 54,\n",
       " 55,\n",
       " 56,\n",
       " 57,\n",
       " 58,\n",
       " 59,\n",
       " 60,\n",
       " 61,\n",
       " 62,\n",
       " 63,\n",
       " 64,\n",
       " 65,\n",
       " 66,\n",
       " 67]"
      ]
     },
     "execution_count": 61,
     "metadata": {},
     "output_type": "execute_result"
    }
   ],
   "source": [
    "list"
   ]
  },
  {
   "cell_type": "code",
   "execution_count": 8,
   "metadata": {},
   "outputs": [
    {
     "data": {
      "text/plain": [
       "[3, 5, 5, 5, 6, 4, 3, 9, 4, 3]"
      ]
     },
     "execution_count": 8,
     "metadata": {},
     "output_type": "execute_result"
    }
   ],
   "source": [
    "original_str = \"The quick brown rhino jumped over the extremely lazy fox\"\n",
    "original_str = original_str.split(\" \")\n",
    "num_words_list = []\n",
    "for i in range(len(original_str)):\n",
    "    num_words_list.append(len(original_str[i]))\n",
    "num_words_list"
   ]
  },
  {
   "cell_type": "code",
   "execution_count": 9,
   "metadata": {},
   "outputs": [
    {
     "ename": "IndexError",
     "evalue": "string index out of range",
     "output_type": "error",
     "traceback": [
      "\u001b[0;31m---------------------------------------------------------------------------\u001b[0m",
      "\u001b[0;31mIndexError\u001b[0m                                Traceback (most recent call last)",
      "Cell \u001b[0;32mIn [9], line 2\u001b[0m\n\u001b[1;32m      1\u001b[0m yesno \u001b[38;5;241m=\u001b[39m \u001b[38;5;28minput\u001b[39m(\u001b[38;5;124m'\u001b[39m\u001b[38;5;124mEnter Yes or No:\u001b[39m\u001b[38;5;124m'\u001b[39m)\n\u001b[0;32m----> 2\u001b[0m \u001b[38;5;28;01mif\u001b[39;00m \u001b[43myesno\u001b[49m\u001b[43m[\u001b[49m\u001b[38;5;241;43m0\u001b[39;49m\u001b[43m]\u001b[49m \u001b[38;5;241m==\u001b[39m \u001b[38;5;124m'\u001b[39m\u001b[38;5;124mY\u001b[39m\u001b[38;5;124m'\u001b[39m \u001b[38;5;129;01mand\u001b[39;00m \u001b[38;5;28mlen\u001b[39m(yesno) \u001b[38;5;241m>\u001b[39m \u001b[38;5;241m0\u001b[39m:\n\u001b[1;32m      3\u001b[0m    \u001b[38;5;28mprint\u001b[39m(\u001b[38;5;124m'\u001b[39m\u001b[38;5;124mYes!\u001b[39m\u001b[38;5;124m'\u001b[39m)\n",
      "\u001b[0;31mIndexError\u001b[0m: string index out of range"
     ]
    }
   ],
   "source": [
    "yesno = input('Enter Yes or No:')\n",
    "if yesno[0] == 'Y' and len(yesno) > 0:\n",
    "   print('Yes!')"
   ]
  },
  {
   "cell_type": "code",
   "execution_count": 10,
   "metadata": {},
   "outputs": [],
   "source": [
    "yesno = input('Enter Yes or No:')\n",
    "if len(yesno) > 0 and yesno[0] == 'Y':\n",
    "   print('Yes!')"
   ]
  },
  {
   "cell_type": "code",
   "execution_count": 11,
   "metadata": {},
   "outputs": [
    {
     "name": "stdout",
     "output_type": "stream",
     "text": [
      "You can apply to SI!\n"
     ]
    }
   ],
   "source": [
    "courses = [\"ENGR 101\", \"SI 110\", \"ENG 125\", \"SI 106\", \"CHEM 130\"]\n",
    "\n",
    "if \"SI 106\" in courses:\n",
    "    print(\"You can apply to SI!\")\n",
    "else:\n",
    "    print(\"Take SI 106!\")"
   ]
  },
  {
   "cell_type": "code",
   "execution_count": null,
   "metadata": {},
   "outputs": [],
   "source": [
    "a = 20\n",
    "b=15\n",
    "\n",
    "if b >a:\n",
    "    a=a*2\n",
    "c = a+b\n"
   ]
  },
  {
   "cell_type": "code",
   "execution_count": 12,
   "metadata": {},
   "outputs": [],
   "source": [
    "str1 = \"Today you are you! That is truer than true! There is no one alive who is you-er than you!\"\n",
    "if \"false\" in str1:\n",
    "    output = \"False. You aren’t you?\"\n",
    "elif \"true\" in str1:\n",
    "    output = \"True! You are you!\"\n",
    "else:\n",
    "    output =\"Neither true nor false!\""
   ]
  },
  {
   "cell_type": "code",
   "execution_count": null,
   "metadata": {},
   "outputs": [],
   "source": [
    "percent_rain = [94.3, 45, 100, 78, 16, 5.3, 79, 86]\n",
    "resps = []\n",
    "for i in percent_rain:\n",
    "    if i>90:\n",
    "        resps.append(\"Bring an umbrella.\")\n",
    "    elif i>80:\n",
    "        resps.append(\"Good for the flowers?\")\n",
    "    elif i> 50:\n",
    "        resps.append(\"Watch out for clouds!\")\n",
    "    else:\n",
    "        resps.append(\"Nice day!\")\n"
   ]
  },
  {
   "cell_type": "code",
   "execution_count": 15,
   "metadata": {},
   "outputs": [],
   "source": [
    "x =64\n",
    "output = []\n",
    "\n",
    "if x > 63:\n",
    "    output.append(True)\n",
    "elif x > 55:\n",
    "    output.append(False)\n",
    "else:\n",
    "    output.append(\"Neither\")\n",
    "\n",
    "if x > 67:\n",
    "    output.append(True)\n",
    "else:\n",
    "    output.append(None)"
   ]
  },
  {
   "cell_type": "code",
   "execution_count": 16,
   "metadata": {},
   "outputs": [
    {
     "data": {
      "text/plain": [
       "[True, None]"
      ]
     },
     "execution_count": 16,
     "metadata": {},
     "output_type": "execute_result"
    }
   ],
   "source": [
    "output"
   ]
  },
  {
   "cell_type": "code",
   "execution_count": 20,
   "metadata": {},
   "outputs": [
    {
     "data": {
      "text/plain": [
       "5"
      ]
     },
     "execution_count": 20,
     "metadata": {},
     "output_type": "execute_result"
    }
   ],
   "source": [
    "rainfall_mi = \"1.65, 1.46, 2.05, 3.03, 3.35, 3.46, 2.83, 3.23, 3.5, 2.52, 2.8, 1.85\"\n",
    "rainfall_mi = rainfall_mi.split(\",\")\n",
    "num_rainy_months = 0\n",
    "for i in rainfall_mi:\n",
    "    x = float(i)\n",
    "    if x > 3:\n",
    "        num_rainy_months = num_rainy_months+1\n",
    "num_rainy_months"
   ]
  },
  {
   "cell_type": "code",
   "execution_count": 22,
   "metadata": {},
   "outputs": [
    {
     "data": {
      "text/plain": [
       "2"
      ]
     },
     "execution_count": 22,
     "metadata": {},
     "output_type": "execute_result"
    }
   ],
   "source": [
    "sentence = \"students flock to the arb for a variety of outdoor activities such as jogging and picnicking\"\n",
    "same_letter_count = 0\n",
    "sentence = sentence.split()\n",
    "for i in sentence:\n",
    "    if i[0]==i[-1]:\n",
    "        same_letter_count = same_letter_count+1\n",
    "same_letter_count\n"
   ]
  },
  {
   "cell_type": "code",
   "execution_count": 23,
   "metadata": {},
   "outputs": [
    {
     "data": {
      "text/plain": [
       "4"
      ]
     },
     "execution_count": 23,
     "metadata": {},
     "output_type": "execute_result"
    }
   ],
   "source": [
    "items = [\"whirring\", \"wow!\", \"calendar\", \"wry\", \"glass\", \"\", \"llama\",\"tumultuous\",\"owing\"]\n",
    "acc_num = 0\n",
    "for i in items:\n",
    "    if \"w\" in i:\n",
    "        acc_num = acc_num+1\n",
    "acc_num"
   ]
  },
  {
   "cell_type": "code",
   "execution_count": 25,
   "metadata": {},
   "outputs": [
    {
     "data": {
      "text/plain": [
       "14"
      ]
     },
     "execution_count": 25,
     "metadata": {},
     "output_type": "execute_result"
    }
   ],
   "source": [
    "sentence = \"python is a high level general purpose programming language that can be applied to many different classes of problems.\"\n",
    "sentence = sentence.split()\n",
    "num_a_or_e = 0\n",
    "for i in sentence:\n",
    "    if \"a\" in i:\n",
    "        num_a_or_e = num_a_or_e+1\n",
    "    elif \"e\" in i:\n",
    "        num_a_or_e = num_a_or_e+1\n",
    "num_a_or_e\n"
   ]
  },
  {
   "cell_type": "code",
   "execution_count": 28,
   "metadata": {},
   "outputs": [
    {
     "data": {
      "text/plain": [
       "32"
      ]
     },
     "execution_count": 28,
     "metadata": {},
     "output_type": "execute_result"
    }
   ],
   "source": [
    "s = \"singing in the rain and playing in the rain are two entirely different situations but both can be fun\"\n",
    "# s = s.split()\n",
    "vowels = ['a','e','i','o','u']\n",
    "num_vowels = 0\n",
    "for i in s:\n",
    "    if i in vowels:\n",
    "        num_vowels= num_vowels+1\n",
    "num_vowels"
   ]
  },
  {
   "cell_type": "code",
   "execution_count": null,
   "metadata": {},
   "outputs": [],
   "source": []
  }
 ],
 "metadata": {
  "kernelspec": {
   "display_name": "lewagon",
   "language": "python",
   "name": "python3"
  },
  "language_info": {
   "codemirror_mode": {
    "name": "ipython",
    "version": 3
   },
   "file_extension": ".py",
   "mimetype": "text/x-python",
   "name": "python",
   "nbconvert_exporter": "python",
   "pygments_lexer": "ipython3",
   "version": "3.10.6"
  }
 },
 "nbformat": 4,
 "nbformat_minor": 2
}
